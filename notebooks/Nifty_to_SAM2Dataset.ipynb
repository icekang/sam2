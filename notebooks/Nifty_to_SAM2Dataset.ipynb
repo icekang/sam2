{
 "cells": [
  {
   "cell_type": "code",
   "execution_count": 3,
   "id": "c9cd5115-d362-49c3-b744-7b771f073159",
   "metadata": {},
   "outputs": [],
   "source": [
    "from pathlib import Path\n",
    "import numpy as np\n",
    "import SimpleITK as sitk\n",
    "from pathlib import Path\n",
    "from PIL import Image"
   ]
  },
  {
   "cell_type": "code",
   "execution_count": 8,
   "id": "576ae6b4-e5ad-4d42-ab19-5a24f347fa5a",
   "metadata": {},
   "outputs": [],
   "source": [
    "def read_image(image_filename):\n",
    "    itk_image = sitk.ReadImage(image_filename)\n",
    "    npy_image = sitk.GetArrayFromImage(itk_image)\n",
    "    if npy_image.ndim == 3:\n",
    "        # 3d, as in original nnunet\n",
    "        npy_image = npy_image[None]\n",
    "    elif npy_image.ndim == 4:\n",
    "        # 4d, multiple modalities in one file\n",
    "        pass\n",
    "    else:\n",
    "        raise RuntimeError(f\"Unexpected number of dimensions: {npy_image.ndim} in file {image_filename}\")\n",
    "\n",
    "    return npy_image.astype(np.float32)\n",
    "\n",
    "def save_image(label, label_folder_path):\n",
    "    # Create a folder\n",
    "    label_folder_path.mkdir(exist_ok=True)\n",
    "\n",
    "    color_pallete = np.array([[0, 0, 0], [255, 0, 0], [0, 255, 0]])\n",
    "\n",
    "    for i in range(label.shape[1]):\n",
    "        frame = Image.fromarray(color_pallete[label[0, i].astype(np.uint8)].astype(np.uint8))\n",
    "        frame.save(label_folder_path / f'{i:05}.png')"
   ]
  },
  {
   "cell_type": "code",
   "execution_count": 4,
   "id": "06e6212b-0a91-491f-87d4-01e3e08edba7",
   "metadata": {},
   "outputs": [],
   "source": [
    "dataset_dir = Path('/home/gridsan/nchutisilp/datasets/SAM2_Dataset302_Calcium_OCTv2/')\n",
    "\n",
    "# test_image_dir = dataset_dir / 'imagesTs'\n",
    "test_label_dir = dataset_dir / 'Dataset302_Calcium_OCTv2_LaW_Prediction'\n",
    "\n",
    "# train_image_dir = dataset_dir / 'imagesTr'\n",
    "train_label_dir = dataset_dir / 'Dataset302_Calcium_OCTv2_LaW_Prediction_imagesTr'"
   ]
  },
  {
   "cell_type": "code",
   "execution_count": 9,
   "id": "11b16dff-caa9-492c-b268-b1a52df8c0a0",
   "metadata": {},
   "outputs": [],
   "source": [
    "# We have to convert 3D volumes into folders containing image slices\n",
    "output_dir = Path('/home/gridsan/nchutisilp/datasets/') / 'SAM2_Dataset302_Calcium_OCTv2'\n",
    "output_dir.mkdir(exist_ok=True)\n",
    "\n",
    "output_test_label_dir = output_dir / 'LaW_nnUNet_all_predictions_Ts'\n",
    "output_test_label_dir.mkdir(exist_ok=True)\n",
    "\n",
    "for volume_path in test_label_dir.glob('*.nii.gz'):\n",
    "    filename = volume_path.name.replace('.nii.gz', '')\n",
    "\n",
    "    label_folder_dir = output_test_label_dir / filename\n",
    "    label_folder_dir.mkdir(exist_ok=True)\n",
    "    \n",
    "    label = read_image(volume_path)\n",
    "    \n",
    "    save_image(label, label_folder_dir)"
   ]
  },
  {
   "cell_type": "code",
   "execution_count": 12,
   "id": "c4a31eda-e0aa-42de-88c3-612465435395",
   "metadata": {},
   "outputs": [],
   "source": [
    "# We have to convert 3D volumes into folders containing image slices\n",
    "output_dir = Path('/home/gridsan/nchutisilp/datasets/') / 'SAM2_Dataset302_Calcium_OCTv2'\n",
    "output_dir.mkdir(exist_ok=True)\n",
    "\n",
    "output_train_label_dir = output_dir / 'LaW_nnUNet_all_predictions_Tr'\n",
    "output_train_label_dir.mkdir(exist_ok=True)\n",
    "\n",
    "for volume_path in train_label_dir.glob('*.nii.gz'):\n",
    "    filename = volume_path.name.replace('.nii.gz', '')\n",
    "\n",
    "    label_folder_dir = output_train_label_dir / filename\n",
    "    label_folder_dir.mkdir(exist_ok=True)\n",
    "    \n",
    "    label = read_image(volume_path)\n",
    "    \n",
    "    save_image(label, label_folder_dir)"
   ]
  }
 ],
 "metadata": {
  "kernelspec": {
   "display_name": "Python 3 (ipykernel)",
   "language": "python",
   "name": "python3"
  },
  "language_info": {
   "codemirror_mode": {
    "name": "ipython",
    "version": 3
   },
   "file_extension": ".py",
   "mimetype": "text/x-python",
   "name": "python",
   "nbconvert_exporter": "python",
   "pygments_lexer": "ipython3",
   "version": "3.9.15"
  }
 },
 "nbformat": 4,
 "nbformat_minor": 5
}
