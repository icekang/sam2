{
 "cells": [
  {
   "cell_type": "code",
   "execution_count": 1,
   "id": "f52539fb",
   "metadata": {},
   "outputs": [],
   "source": [
    "import json\n",
    "import os\n",
    "from pathlib import Path\n",
    "\n",
    "import edt\n",
    "import numpy as np\n",
    "import SimpleITK as sitk"
   ]
  },
  {
   "cell_type": "code",
   "execution_count": null,
   "id": "21db1f1f-bcf5-480f-9121-48f686ee3260",
   "metadata": {},
   "outputs": [],
   "source": [
    "DATASET_ID = \"307\"\n",
    "DATASET_NAME = \"Sohee_Calcium_OCT_CrossValidation\"\n",
    "EVERY_N = 4\n",
    "nnUNet_preprocessed = Path(os.environ[\"nnUNet_preprocessed\"])\n",
    "nnUNet_raw = Path(os.environ[\"nnUNet_raw\"])\n",
    "\n",
    "split_filepath = nnUNet_preprocessed / f\"Dataset{DATASET_ID}_{DATASET_NAME}/splits_final.json\"\n",
    "imageTr_dir = nnUNet_raw / f\"Dataset{DATASET_ID}_{DATASET_NAME}/imagesTr\"\n",
    "labelTr_dir = nnUNet_raw / f\"Dataset{DATASET_ID}_{DATASET_NAME}/labelsTr\"\n",
    "\n",
    "with open(split_filepath, 'r') as f:\n",
    "    splits = json.load(f)\n",
    "\n",
    "len(splits)"
   ]
  },
  {
   "cell_type": "code",
   "execution_count": 3,
   "id": "d17b2c29",
   "metadata": {},
   "outputs": [],
   "source": [
    "def get_image_path(image_id, is_image=True):\n",
    "    if is_image:\n",
    "        return imageTr_dir / f\"{image_id}_0000.nii.gz\"\n",
    "    else:\n",
    "        return labelTr_dir / f\"{image_id}.nii.gz\"\n",
    "    \n",
    "def read_image(image_filename):\n",
    "    itk_image = sitk.ReadImage(image_filename)\n",
    "    npy_image = sitk.GetArrayFromImage(itk_image)\n",
    "    if npy_image.ndim == 3:\n",
    "        # 3d, as in original nnunet\n",
    "        npy_image = npy_image[None]\n",
    "    elif npy_image.ndim == 4:\n",
    "        # 4d, multiple modalities in one file\n",
    "        pass\n",
    "    else:\n",
    "        raise RuntimeError(f\"Unexpected number of dimensions: {npy_image.ndim} in file {image_filename}\")\n",
    "\n",
    "    return npy_image.astype(np.float32)"
   ]
  },
  {
   "cell_type": "code",
   "execution_count": 4,
   "id": "84e4bc7b",
   "metadata": {},
   "outputs": [],
   "source": [
    "def iterate_interpolated_edts(image1, image2, n_interpolated):\n",
    "    # Get the EDT of the forground\n",
    "    edt1 = edt.sdf(image1)\n",
    "    edt2 = edt.sdf(image2)\n",
    "\n",
    "    # Interpolate the EDT\n",
    "    alphas = np.linspace(0, 1, n_interpolated)\n",
    "    yield edt1\n",
    "    for a in alphas:\n",
    "        edt_i = edt1 * (1 - a) + edt2 * a # Linear interpolation of the EDT\n",
    "        yield edt_i\n",
    "    yield edt2\n",
    "\n",
    "def interpolate_labels(image1, image2, n_interpolated):\n",
    "    H, W = image1.shape\n",
    "\n",
    "    concated_labels = np.concatenate([image1, image2])\n",
    "    labels = np.unique(concated_labels)\n",
    "    labels = labels.astype(np.int32)\n",
    "    edt_for_labels = iterate_interpolated_edts(image1, image2, n_interpolated)\n",
    "    results = []\n",
    "    for ith in range(n_interpolated):\n",
    "        for edt in edt_for_labels:\n",
    "            results.append(edt > 0)\n",
    "    return np.stack(results)"
   ]
  },
  {
   "cell_type": "code",
   "execution_count": 5,
   "id": "bbfb7d9b",
   "metadata": {},
   "outputs": [],
   "source": [
    "def dice_score_of_a_volume(gt, pred, ignore_index = 0):\n",
    "    labels = np.unique(gt)\n",
    "    dices = []\n",
    "    for label in labels:\n",
    "        if label == ignore_index:\n",
    "            continue\n",
    "        gt_bool = label == gt\n",
    "        pred_bool = label == pred\n",
    "        \n",
    "        intersection = np.logical_and(gt_bool, pred_bool)\n",
    "        dices.append(2. * intersection.sum() / (gt_bool.sum() + pred_bool.sum()))\n",
    "\n",
    "    avg_dice = sum(dices) / len(dices)\n",
    "    return labels, dices, avg_dice"
   ]
  },
  {
   "cell_type": "code",
   "execution_count": null,
   "id": "fd2679dc",
   "metadata": {},
   "outputs": [],
   "source": [
    "pred_dir = Path(\"sdf_predictions\")\n",
    "pred_dir.mkdir(exist_ok=True)\n",
    "results = {}\n",
    "for fold, split in enumerate(splits):\n",
    "    results[fold] = {}\n",
    "    # train_ids = split[\"train\"]\n",
    "    val_ids = split[\"val\"]\n",
    "    pred_dir = Path(f\"sdf_predictions/fold_{fold}\")\n",
    "    pred_dir.mkdir(exist_ok=True)\n",
    "    for patient_id in val_ids:\n",
    "        gt_image = read_image(get_image_path(patient_id, is_image=False))\n",
    "        B, C, H, W = gt_image.shape\n",
    "        image = gt_image[0, 0::EVERY_N, :, :]\n",
    "\n",
    "        prediction = np.zeros((B, C, H, W), dtype=np.uint8)\n",
    "        for i in range(image.shape[0] - 1):\n",
    "            for frame, label in enumerate(interpolate_labels(image[i], image[i+1], 4)):\n",
    "                if frame == 0 or frame == 4:\n",
    "                    label = label.astype(np.int8) * 2\n",
    "                prediction[0, i * EVERY_N + frame, :, :] = label.astype(np.int8)\n",
    "        \n",
    "        dice = dice_score_of_a_volume(gt_image[0, :, :, :], prediction[0, :, :, :])\n",
    "        results[fold][patient_id] = dice\n",
    "        prediction = np.array([[0, 0, 0], [0, 0, 255], [0, 255, 0]])[prediction]\n",
    "        # Save the prediction with numpy\n",
    "        np.savez(pred_dir / f\"{patient_id}.npz\", prediction)\n",
    "        print(f\"Fold {fold}, Patient {patient_id}, Dice: {dice}\")\n",
    "\n",
    "    #     break\n",
    "    # break\n"
   ]
  },
  {
   "cell_type": "code",
   "execution_count": null,
   "id": "1e2d5cd9",
   "metadata": {},
   "outputs": [],
   "source": [
    "import matplotlib.pyplot as plt\n",
    "\n",
    "\n",
    "fig, ax = plt.subplots(5, 2, figsize=(8, 16))\n",
    "for i in range(100, 105):\n",
    "    ax[i - 100, 0].imshow(prediction[0, i, :, :])\n",
    "    ax[i - 100, 1].imshow(gt_image[0, i, :, :])"
   ]
  }
 ],
 "metadata": {
  "kernelspec": {
   "display_name": "sam2",
   "language": "python",
   "name": "python3"
  },
  "language_info": {
   "codemirror_mode": {
    "name": "ipython",
    "version": 3
   },
   "file_extension": ".py",
   "mimetype": "text/x-python",
   "name": "python",
   "nbconvert_exporter": "python",
   "pygments_lexer": "ipython3",
   "version": "3.12.5"
  }
 },
 "nbformat": 4,
 "nbformat_minor": 5
}
